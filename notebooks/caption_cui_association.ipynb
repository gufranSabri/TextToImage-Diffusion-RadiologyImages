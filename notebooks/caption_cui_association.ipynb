{
 "cells": [
  {
   "cell_type": "code",
   "execution_count": 1,
   "metadata": {},
   "outputs": [],
   "source": [
    "import os\n",
    "import pandas as pd\n",
    "import numpy as np\n",
    "import random\n",
    "from tqdm import tqdm\n",
    "import os\n",
    "import sys\n",
    "import matplotlib.pyplot as plt\n",
    "\n",
    "import torch\n",
    "import torch.nn as nn\n",
    "from torch_geometric.data import Data\n",
    "from torch_geometric.nn import GAE, GCNConv\n",
    "import torch_geometric.transforms as T\n",
    "from transformers import AutoConfig, AutoTokenizer, AutoModel\n",
    "from sklearn import metrics\n",
    "\n",
    "import warnings\n",
    "\n",
    "warnings.filterwarnings(\"ignore\")\n",
    "os.environ[\"TOKENIZERS_PARALLELISM\"] = \"false\""
   ]
  },
  {
   "cell_type": "markdown",
   "metadata": {},
   "source": [
    "### SETTNGS"
   ]
  },
  {
   "cell_type": "code",
   "execution_count": 2,
   "metadata": {},
   "outputs": [],
   "source": [
    "DATA_PATH = \"/Users/gufran/Developer/Projects/AI/RadiologyTextToImage/data/\"\n",
    "LOGS_PATH = \"/Users/gufran/Developer/Projects/AI/RadiologyTextToImage/logs\"\n",
    "MODEL_PATH = \"/Users/gufran/Developer/Projects/AI/RadiologyTextToImage/models\"\n",
    "\n",
    "if not os.path.exists(LOGS_PATH):\n",
    "    os.makedirs(LOGS_PATH)\n",
    "\n",
    "if not os.path.exists(MODEL_PATH):\n",
    "    os.makedirs(MODEL_PATH)"
   ]
  },
  {
   "cell_type": "code",
   "execution_count": 18,
   "metadata": {},
   "outputs": [],
   "source": [
    "MODES = {\n",
    "    \"train\": 0,\n",
    "    \"test\": 1,\n",
    "}"
   ]
  },
  {
   "cell_type": "code",
   "execution_count": 3,
   "metadata": {},
   "outputs": [],
   "source": [
    "seed = 42\n",
    "\n",
    "random.seed(seed)\n",
    "torch.manual_seed(seed)\n",
    "np.random.seed(seed)\n",
    "\n",
    "#FOR MAC --------------------------------------------\n",
    "torch.mps.manual_seed(seed)\n",
    "torch.backends.mps.deterministic=True\n",
    "torch.backends.mps.benchmark = False\n",
    "\n",
    "#FOR WINDOWS AND LINUX -------------------------------\n",
    "# torch.cuda.manual_seed(seed)\n",
    "# torch.cuda.manual_seed_all(seed)\n",
    "# torch.backends.cudnn.deterministic=True #replace mps with cudnn here\n",
    "# torch.backends.cudnn.benchmark = False #replace mps with cudnn here"
   ]
  },
  {
   "cell_type": "code",
   "execution_count": 4,
   "metadata": {},
   "outputs": [],
   "source": [
    "HIDDEN_SIZE = 200\n",
    "BERT_HIDDEN_SIZE = 768\n",
    "OUT_CHANNELS = 20\n",
    "EPOCHS = 10"
   ]
  },
  {
   "cell_type": "code",
   "execution_count": 5,
   "metadata": {},
   "outputs": [],
   "source": [
    "device = torch.device(\"mps\")\n",
    "# device = torch.device(\"cuda\" if torch.cuda.is_available() else \"cpu\")"
   ]
  },
  {
   "cell_type": "markdown",
   "metadata": {},
   "source": [
    "### DATA LOADING AND PREPROCESSING"
   ]
  },
  {
   "cell_type": "code",
   "execution_count": 23,
   "metadata": {},
   "outputs": [
    {
     "name": "stderr",
     "output_type": "stream",
     "text": [
      "Some weights of RobertaModel were not initialized from the model checkpoint at zzxslp/RadBERT-RoBERTa-4m and are newly initialized: ['roberta.pooler.dense.bias', 'roberta.pooler.dense.weight']\n",
      "You should probably TRAIN this model on a down-stream task to be able to use it for predictions and inference.\n",
      "Generating node features for CUIs: 100%|██████████| 1934/1934 [01:06<00:00, 29.18it/s]\n",
      "Generating node features for captions: 100%|██████████| 5000/5000 [02:51<00:00, 29.15it/s]\n"
     ]
    },
    {
     "name": "stdout",
     "output_type": "stream",
     "text": [
      "Number of nodes: 6934\n",
      "Number of edges: 33050\n",
      "Space on disk (data): 5.340576171875e-05 MB\n",
      "Space on disk (node features): 20.3145751953125 MB\n",
      "Space on disk (edge list): 0.25220489501953125 MB\n",
      "\n"
     ]
    }
   ],
   "source": [
    "def load_node_mapping(df, offset):\n",
    "    node_mapping = {}\n",
    "    for i, row in df.iterrows():\n",
    "        node_mapping[row[\"ID\"]] = i + offset\n",
    "    \n",
    "    return node_mapping\n",
    "\n",
    "def load_edge_list(df_cui, cui_node_mapping, caption_node_mapping):\n",
    "    edge_list = []\n",
    "\n",
    "    for i, row in df_cui.iterrows():\n",
    "        cuis = row[\"CUIs\"].split(\";\")\n",
    "        cuis = [cui for cui in cuis if cui in cui_node_mapping]\n",
    "\n",
    "        for cui in cuis:\n",
    "            edge_list.append([cui_node_mapping[cui], caption_node_mapping[row[\"ID\"]]])\n",
    "            edge_list.append([caption_node_mapping[row[\"ID\"]], cui_node_mapping[cui]])\n",
    "\n",
    "    edge_list = sorted(edge_list, key=lambda x: x[0])\n",
    "    return edge_list\n",
    "\n",
    "def initialize_data(df_cui_mapping_path, df_cui_path, df_caption_path, num_samples=None):\n",
    "    config = AutoConfig.from_pretrained('zzxslp/RadBERT-RoBERTa-4m')\n",
    "    tokenizer = AutoTokenizer.from_pretrained('zzxslp/RadBERT-RoBERTa-4m')\n",
    "    radbert = AutoModel.from_pretrained('zzxslp/RadBERT-RoBERTa-4m', config=config)\n",
    "\n",
    "    df_cui = pd.read_csv(df_cui_path)\n",
    "    df_cui_mapping = pd.read_csv(df_cui_mapping_path)\n",
    "    df_caption = pd.read_csv(df_caption_path)\n",
    "\n",
    "    df_cui_mapping = df_cui_mapping.rename(columns={\"CUI\": \"ID\"})\n",
    "\n",
    "    if num_samples is not None:\n",
    "        df_caption = df_caption.sample(n=num_samples, random_state=seed).reset_index(drop=True)\n",
    "        df_cui = df_cui[df_cui[\"ID\"].isin(df_caption[\"ID\"])].reset_index(drop=True)\n",
    "\n",
    "\n",
    "    #GET CUI AND CAPTION NODE MAPPING\n",
    "    cui_node_mapping = load_node_mapping(df_cui_mapping, 0)\n",
    "    caption_node_mapping = load_node_mapping(df_caption, len(cui_node_mapping))\n",
    "    edge_list = load_edge_list(df_cui, cui_node_mapping, caption_node_mapping)\n",
    "\n",
    "\n",
    "    #GENERATE NODE FEATURES\n",
    "    node_features = []\n",
    "\n",
    "    for cui in tqdm(cui_node_mapping.keys(), desc=\"Generating node features for CUIs\"):\n",
    "        inputs = tokenizer(df_cui_mapping.loc[df_cui_mapping[\"ID\"] == cui, \"Canonical name\"][len(node_features)], return_tensors=\"pt\", max_length=128, truncation=True, padding=\"max_length\")\n",
    "        outputs = radbert(**inputs)\n",
    "        node_features.append(outputs.last_hidden_state[:, 0, :].detach().numpy())\n",
    "    for _, row in tqdm(df_caption.iterrows(), total=df_caption.shape[0], desc=\"Generating node features for captions\"):\n",
    "        caption = row[\"Caption\"]\n",
    "        inputs = tokenizer(caption, return_tensors=\"pt\", max_length=128, truncation=True, padding=\"max_length\")\n",
    "        outputs = radbert(**inputs)\n",
    "        node_features.append(outputs.last_hidden_state[:, 0, :].detach().numpy())\n",
    "\n",
    "    node_features = np.vstack(node_features)\n",
    "\n",
    "\n",
    "    #INITIALIZE DATA\n",
    "    data = Data(\n",
    "        x=torch.tensor(node_features, dtype=torch.float),\n",
    "        edge_index=torch.tensor(edge_list, dtype=torch.long).t().contiguous()\n",
    "    )\n",
    "    data.num_nodes = len(cui_node_mapping) + len(caption_node_mapping)\n",
    "    data.num_edges = len(edge_list)\n",
    "\n",
    "    print(\"Number of nodes:\", data.num_nodes)\n",
    "    print(\"Number of edges:\", data.num_edges)\n",
    "    print(\"Space on disk (data):\", sys.getsizeof(data) / 1024 / 1024, \"MB\")\n",
    "    print(\"Space on disk (node features):\", sys.getsizeof(node_features) / 1024 / 1024, \"MB\")\n",
    "    print(\"Space on disk (edge list):\", sys.getsizeof(edge_list) / 1024 / 1024, \"MB\")\n",
    "    print()\n",
    "\n",
    "    return data\n",
    "\n",
    "data = initialize_data(\n",
    "    os.path.join(DATA_PATH, \"rocov2\", \"cui_mapping.csv\"),\n",
    "    os.path.join(DATA_PATH, \"rocov2\", \"train_concepts.csv\"),\n",
    "    os.path.join(DATA_PATH, \"rocov2\", \"train_captions.csv\"),\n",
    "    num_samples=5000\n",
    ")"
   ]
  },
  {
   "cell_type": "code",
   "execution_count": 7,
   "metadata": {},
   "outputs": [
    {
     "data": {
      "text/plain": [
       "True"
      ]
     },
     "execution_count": 7,
     "metadata": {},
     "output_type": "execute_result"
    }
   ],
   "source": [
    "data.validate(raise_on_error=True)"
   ]
  },
  {
   "cell_type": "code",
   "execution_count": 8,
   "metadata": {},
   "outputs": [
    {
     "name": "stdout",
     "output_type": "stream",
     "text": [
      "Train Data:\n",
      " Data(x=[6934, 768], edge_index=[2, 28094], num_nodes=6934, num_edges=33050, pos_edge_label=[14047], pos_edge_label_index=[2, 14047], neg_edge_label=[14047], neg_edge_label_index=[2, 14047])\n",
      "Validation Data:\n",
      " Data(x=[6934, 768], edge_index=[2, 28094], num_nodes=6934, num_edges=33050, pos_edge_label=[2478], pos_edge_label_index=[2, 2478], neg_edge_label=[2478], neg_edge_label_index=[2, 2478])\n"
     ]
    }
   ],
   "source": [
    "transform = T.Compose([\n",
    "    T.NormalizeFeatures(),\n",
    "    T.ToDevice(device),\n",
    "    T.RandomLinkSplit(num_val=0.15, num_test=0, is_undirected=True,\n",
    "                      split_labels=True, add_negative_train_samples=True),\n",
    "])\n",
    "\n",
    "train_dataset, val_dataset, _ = transform(data)\n",
    "print(\"Train Data:\\n\", train_dataset)\n",
    "print(\"Validation Data:\\n\", val_dataset)"
   ]
  },
  {
   "cell_type": "markdown",
   "metadata": {},
   "source": [
    "### HELPER FUNCTIONS"
   ]
  },
  {
   "cell_type": "code",
   "execution_count": 9,
   "metadata": {},
   "outputs": [],
   "source": [
    "def plot_roc_curve(model, data):\n",
    "  model.eval()\n",
    "\n",
    "  x = data.x\n",
    "  z = model.encode(x, data.edge_index)\n",
    "\n",
    "  pos_preds = model.decode(z, data.pos_edge_label_index, sigmoid=True)\n",
    "  neg_preds = model.decode(z, data.neg_edge_label_index, sigmoid=True)\n",
    "  preds = torch.cat([pos_preds, neg_preds], dim=0)\n",
    "  preds = preds.detach().cpu().numpy()\n",
    "\n",
    "  labels = torch.cat((data.pos_edge_label, data.neg_edge_label), dim=0)\n",
    "  labels = labels.detach().cpu().numpy()\n",
    "  fpr, tpr, thresholds = metrics.roc_curve(labels, preds)\n",
    "\n",
    "  J = tpr - fpr\n",
    "  ix = np.argmax(J)\n",
    "  best_thresh = thresholds[ix]\n",
    "  print('Best Threshold=%f' % (best_thresh))\n",
    "\n",
    "  roc_auc = metrics.roc_auc_score(labels, preds)\n",
    "\n",
    "  plt.plot(fpr, tpr, 'b', label = 'AUC = %0.2f' % roc_auc)\n",
    "  plt.plot([0, 1], [0, 1],'r--') # diagonal roc curve of a random classifier\n",
    "  plt.scatter(fpr[ix], tpr[ix], marker='o', color='black', label='Best=%0.2f' % best_thresh)\n",
    "  plt.xlim(0, 1)\n",
    "  plt.ylim(0, 1)\n",
    "  plt.xlabel('False Positive Rate')\n",
    "  plt.ylabel('True Positive Rate')\n",
    "  plt.legend(loc = 'lower right')\n",
    "  plt.title('ROC curve for model predictions')\n",
    "  plt.show()"
   ]
  },
  {
   "cell_type": "code",
   "execution_count": 10,
   "metadata": {},
   "outputs": [],
   "source": [
    "def plot_training_stats(title, val_auc, val_ap, train_auc, train_ap):\n",
    "  fig, ax = plt.subplots()\n",
    "\n",
    "  ax.set_xlabel(\"Training Epochs\")\n",
    "  ax.set_ylabel(\"AUC/AP\")\n",
    "\n",
    "  plt.title(title)\n",
    "  p1, = ax.plot(val_auc, \"r-\", label=\"val AUC\")\n",
    "  p2, = ax.plot(val_ap, \"g-\", label=\"val AP\")\n",
    "  p3, = ax.plot(train_auc, \"o-\", label=\"train AUC\")\n",
    "  p4, = ax.plot(train_ap, \"v-\", label=\"train AP\")\n",
    "  plt.legend(handles=[p1, p2, p3, p4])\n",
    "  plt.show()"
   ]
  },
  {
   "cell_type": "markdown",
   "metadata": {},
   "source": [
    "### MODEL ARCHITECTURE"
   ]
  },
  {
   "cell_type": "code",
   "execution_count": 11,
   "metadata": {},
   "outputs": [],
   "source": [
    "class GCNEncoder(torch.nn.Module):\n",
    "    def __init__(self, in_channels, hidden_size, out_channels, dropout):\n",
    "        super(GCNEncoder, self).__init__()\n",
    "        self.conv1 = GCNConv(in_channels, hidden_size, cached=True) # cached only for transductive learning\n",
    "        self.conv2 = GCNConv(hidden_size, out_channels, cached=True) # cached only for transductive learning\n",
    "        self.dropout = nn.Dropout(dropout)\n",
    "\n",
    "    def forward(self, x, edge_index):\n",
    "        x_temp1 = self.conv1(x, edge_index).relu()\n",
    "        x_temp2 = self.dropout(x_temp1)\n",
    "        return self.conv2(x_temp2, edge_index)\n",
    "\n",
    "gcn_encoder = GCNEncoder(BERT_HIDDEN_SIZE, HIDDEN_SIZE, OUT_CHANNELS, 0.5)\n",
    "gae_model = GAE(gcn_encoder)\n",
    "gae_model = gae_model.to(device)"
   ]
  },
  {
   "cell_type": "markdown",
   "metadata": {},
   "source": [
    "### TRAINING"
   ]
  },
  {
   "cell_type": "code",
   "execution_count": 12,
   "metadata": {},
   "outputs": [],
   "source": [
    "def train_step(train_data, gae_model, optimizer):\n",
    "    gae_model.train()\n",
    "    optimizer.zero_grad()\n",
    "    z = gae_model.encode(train_data.x, train_data.edge_index)\n",
    "    loss = gae_model.recon_loss(z, train_data.pos_edge_label_index.to(device))\n",
    "    loss.backward(retain_graph=True)\n",
    "    optimizer.step()\n",
    "    return float(loss)\n",
    "\n",
    "@torch.no_grad()\n",
    "def test(test_data, gae_model):\n",
    "    gae_model.eval()\n",
    "    z = gae_model.encode(test_data.x, test_data.edge_index)\n",
    "    return gae_model.test(z, test_data.pos_edge_label_index, test_data.neg_edge_label_index)"
   ]
  },
  {
   "cell_type": "code",
   "execution_count": 13,
   "metadata": {},
   "outputs": [
    {
     "name": "stdout",
     "output_type": "stream",
     "text": [
      "Epoch: 001, val AUC: 0.9060, val AP: 0.9255, train AUC: 0.9446, train AP: 0.9456, loss:1.6932\n",
      "Epoch: 002, val AUC: 0.9067, val AP: 0.9257, train AUC: 0.9451, train AP: 0.9458, loss:1.7146\n",
      "Epoch: 003, val AUC: 0.9069, val AP: 0.9258, train AUC: 0.9453, train AP: 0.9459, loss:1.7843\n",
      "Epoch: 004, val AUC: 0.9082, val AP: 0.9264, train AUC: 0.9461, train AP: 0.9463, loss:1.9906\n",
      "Epoch: 005, val AUC: 0.9095, val AP: 0.9270, train AUC: 0.9469, train AP: 0.9466, loss:2.0345\n",
      "Epoch: 006, val AUC: 0.9109, val AP: 0.9276, train AUC: 0.9476, train AP: 0.9469, loss:1.9278\n",
      "Epoch: 007, val AUC: 0.9124, val AP: 0.9281, train AUC: 0.9483, train AP: 0.9470, loss:1.8407\n",
      "Epoch: 008, val AUC: 0.9134, val AP: 0.9284, train AUC: 0.9488, train AP: 0.9470, loss:1.7893\n",
      "Epoch: 009, val AUC: 0.9140, val AP: 0.9284, train AUC: 0.9490, train AP: 0.9469, loss:1.7780\n",
      "Epoch: 010, val AUC: 0.9142, val AP: 0.9284, train AUC: 0.9491, train AP: 0.9468, loss:1.7818\n"
     ]
    }
   ],
   "source": [
    "losses = []\n",
    "val_auc = []\n",
    "val_ap = []\n",
    "train_aucs = []\n",
    "train_aps = []\n",
    "\n",
    "optimizer = torch.optim.Adam(gae_model.parameters(), lr=0.01)\n",
    "for epoch in range(1, EPOCHS + 1):\n",
    "    loss = train_step(train_dataset, gae_model, optimizer)\n",
    "    losses.append(loss)\n",
    "\n",
    "    train_auc, train_ap = test(train_dataset, gae_model)\n",
    "    train_aucs.append(train_auc)\n",
    "    train_aps.append(train_ap)\n",
    "\n",
    "    auc, ap = test(val_dataset, gae_model)\n",
    "    val_auc.append(auc)\n",
    "    val_ap.append(ap)\n",
    "\n",
    "    print('Epoch: {:03d}, val AUC: {:.4f}, val AP: {:.4f}, train AUC: {:.4f}, train AP: {:.4f}, loss:{:.4f}'.format(epoch, auc, ap, train_auc, train_ap, loss))"
   ]
  },
  {
   "cell_type": "code",
   "execution_count": 14,
   "metadata": {},
   "outputs": [
    {
     "data": {
      "image/png": "[encoded data removed]",
      "text/plain": [
       "<Figure size 640x480 with 1 Axes>"
      ]
     },
     "metadata": {},
     "output_type": "display_data"
    }
   ],
   "source": [
    "plot_training_stats('GAE', val_auc, val_ap, train_aucs, train_aps)"
   ]
  },
  {
   "cell_type": "code",
   "execution_count": 15,
   "metadata": {},
   "outputs": [
    {
     "name": "stdout",
     "output_type": "stream",
     "text": [
      "Best Threshold=0.579815\n"
     ]
    },
    {
     "data": {
      "image/png": "[encoded data removed]",
      "text/plain": [
       "<Figure size 640x480 with 1 Axes>"
      ]
     },
     "metadata": {},
     "output_type": "display_data"
    }
   ],
   "source": [
    "plot_roc_curve(gae_model, val_dataset)"
   ]
  },
  {
   "cell_type": "markdown",
   "metadata": {},
   "source": [
    "### TESTING"
   ]
  },
  {
   "cell_type": "code",
   "execution_count": 22,
   "metadata": {},
   "outputs": [
    {
     "name": "stderr",
     "output_type": "stream",
     "text": [
      "Some weights of RobertaModel were not initialized from the model checkpoint at zzxslp/RadBERT-RoBERTa-4m and are newly initialized: ['roberta.pooler.dense.bias', 'roberta.pooler.dense.weight']\n",
      "You should probably TRAIN this model on a down-stream task to be able to use it for predictions and inference.\n",
      "Generating node features for CUIs: 100%|██████████| 1934/1934 [01:06<00:00, 29.23it/s]\n",
      "Generating node features for captions: 100%|██████████| 9972/9972 [05:42<00:00, 29.07it/s]\n"
     ]
    },
    {
     "name": "stdout",
     "output_type": "stream",
     "text": [
      "Number of nodes: 11906\n",
      "Number of edges: 67532\n",
      "Space on disk (data): 5.340576171875e-05 MB\n",
      "Space on disk (node features): 34.8809814453125 MB\n",
      "Space on disk (edge list): 0.5152816772460938 MB\n",
      "\n"
     ]
    }
   ],
   "source": [
    "test_data = initialize_data(\n",
    "    os.path.join(DATA_PATH, \"rocov2\", \"cui_mapping.csv\"),\n",
    "    os.path.join(DATA_PATH, \"rocov2\", \"test_concepts.csv\"),\n",
    "    os.path.join(DATA_PATH, \"rocov2\", \"test_captions.csv\"),\n",
    ")\n",
    "\n",
    "transform_test = T.Compose([\n",
    "    T.NormalizeFeatures(),\n",
    "    T.ToDevice(device),\n",
    "    T.RandomLinkSplit(num_val=0, num_test=0, is_undirected=True,split_labels=True, add_negative_train_samples=True),\n",
    "])\n",
    "test_dataset, _, _ = transform_test(data)"
   ]
  },
  {
   "cell_type": "code",
   "execution_count": 28,
   "metadata": {},
   "outputs": [
    {
     "name": "stdout",
     "output_type": "stream",
     "text": [
      "Test AUC: 0.9429353883196276\n",
      "Test AP: 0.9431333329400058\n"
     ]
    }
   ],
   "source": [
    "auc, ap = test(test_dataset.to(device), gae_model)\n",
    "print(\"Test AUC:\", auc)\n",
    "print(\"Test AP:\", ap)"
   ]
  },
  {
   "cell_type": "markdown",
   "metadata": {},
   "source": [
    "### SAVE THE ENCODER"
   ]
  },
  {
   "cell_type": "code",
   "execution_count": 35,
   "metadata": {},
   "outputs": [
    {
     "data": {
      "text/plain": [
       "Data(x=[11906, 768], edge_index=[0], num_nodes=11906, num_edges=67532)"
      ]
     },
     "execution_count": 35,
     "metadata": {},
     "output_type": "execute_result"
    }
   ],
   "source": [
    "test_data"
   ]
  },
  {
   "cell_type": "code",
   "execution_count": 33,
   "metadata": {},
   "outputs": [
    {
     "data": {
      "text/plain": [
       "Data(x=[6934, 768], edge_index=[2, 33050], num_nodes=6934, num_edges=33050, pos_edge_label=[16525], pos_edge_label_index=[2, 16525], neg_edge_label=[16525], neg_edge_label_index=[2, 16525])"
      ]
     },
     "execution_count": 33,
     "metadata": {},
     "output_type": "execute_result"
    }
   ],
   "source": [
    "test_dataset"
   ]
  },
  {
   "cell_type": "code",
   "execution_count": 18,
   "metadata": {},
   "outputs": [],
   "source": [
    "#save encoder model\n",
    "# torch.save(gae_model.encoder.state_dict(), os.path.join(MODEL_PATH, \"text_encoder.pth\"))"
   ]
  }
 ],
 "metadata": {
  "kernelspec": {
   "display_name": "base",
   "language": "python",
   "name": "python3"
  },
  "language_info": {
   "codemirror_mode": {
    "name": "ipython",
    "version": 3
   },
   "file_extension": ".py",
   "mimetype": "text/x-python",
   "name": "python",
   "nbconvert_exporter": "python",
   "pygments_lexer": "ipython3",
   "version": "3.11.5"
  }
 },
 "nbformat": 4,
 "nbformat_minor": 2
}
